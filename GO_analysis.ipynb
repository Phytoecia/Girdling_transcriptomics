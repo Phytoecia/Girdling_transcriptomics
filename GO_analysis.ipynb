{
 "cells": [
  {
   "cell_type": "code",
   "execution_count": null,
   "metadata": {},
   "outputs": [],
   "source": [
    "library(DESeq2)\n",
    "library('tximport') \n",
    "library('stringr') \n",
    "library('goseq') \n",
    "library('GOplot') \n",
    "library(lattice)\n",
    "library('reshape')\n",
    "library('dplyr')\n",
    "library(ggplot2)\n",
    "library('repr') \n",
    "library('svglite') "
   ]
  },
  {
   "cell_type": "code",
   "execution_count": null,
   "metadata": {},
   "outputs": [],
   "source": [
    "count.NG <- read.csv('/home/minsoo1012/Girdling_prj_revision/counting/NG_rep1/RSEM.genes.results', header = TRUE, sep='\\t')\n",
    "names(count.NG)<-c('Gene', 'transcript', 'length', 'eff_length', 'count', 'TPM', 'FPKM')\n",
    "head(count.NG)\n",
    "data.length<-count.NG[c('Gene', 'length')]\n",
    "head(data.length)"
   ]
  },
  {
   "cell_type": "code",
   "execution_count": null,
   "metadata": {},
   "outputs": [],
   "source": [
    "wd='/home/minsoo1012/Girdling_prj_revision/counting'\n",
    "sample<-c('NG_rep1', 'G_rep1', 'G_rep2', 'G_rep3')\n",
    "files<-file.path(wd,paste0(sample, '/RSEM.genes.results'))\n",
    "names(files) <- sample\n",
    "\n",
    "RSEM_input <- tximport(files, type = 'rsem', txOut = TRUE)\n",
    "summary(RSEM_input)\n",
    "head(RSEM_input$counts)\n",
    "\n",
    "#import annotation\n",
    "trinotate <- read.csv('/home/minsoo1012/Girdling_prj_revision/trinotate/Pr_trinotate.tsv',sep = '\\t', header = TRUE)\n",
    "head(trinotate)"
   ]
  },
  {
   "cell_type": "code",
   "execution_count": null,
   "metadata": {},
   "outputs": [],
   "source": [
    "#set group names and replicates\n",
    "condition<-factor(c('non_girdling', rep('girdling', 3)))\n",
    "sampleTable <- data.frame(condition=condition)\n",
    "rownames(sampleTable) <- colnames(RSEM_input$counts)\n",
    "\n",
    "#run DESeq for count normalization and comparison\n",
    "dds <- DESeqDataSetFromTximport(RSEM_input, sampleTable, ~condition)\n",
    "dds <- DESeq(dds)\n",
    "colnames(dds) <- condition"
   ]
  },
  {
   "cell_type": "code",
   "execution_count": null,
   "metadata": {},
   "outputs": [],
   "source": [
    "#extract result from DESeq output \n",
    "res <- results(dds, contrast=c('condition', 'girdling', 'non_girdling'))  #FC=formal/latter=girdling/non_girdling\n",
    "resDF <- as.data.frame(res)\n",
    "\n",
    "resdata <- merge(as.data.frame(res), as.data.frame(counts(dds, normalized=TRUE)), by='row.names', sort=FALSE)\n",
    "colnames(resdata)<-c('Gene','baseMean','log2FoldChange','lfcSE','stat','pvalue','padj','non_girdling','girdling','girdling.1','girdling.2')\n",
    "resdata<-merge(resdata, trinotate, by='Gene')\n",
    "resdata<-merge(resdata, data.length, by='Gene')\n",
    "resdata<-resdata[!duplicated(resdata[c('Gene')]), ]\n",
    "head(resdata)"
   ]
  },
  {
   "cell_type": "code",
   "execution_count": null,
   "metadata": {},
   "outputs": [],
   "source": [
    "#make list of Gene : GOs to be used for GO analysis\n",
    "list.GO=list()\n",
    "for(i in c(1:nrow(resdata))){\n",
    "    df.temp = resdata[i,]\n",
    "    temp.GO = unlist(strsplit(df.temp$gene_ontology_BLASTX, split='`'))\n",
    "    temp.GO=substr(temp.GO, 1,10)\n",
    "\n",
    "    if(length(temp.GO) > 0){list.GO[[i]] = temp.GO}\n",
    "    else{list.GO[[i]] = NA}\n",
    "}\n",
    "names(list.GO)=as.character(resdata$Gene)"
   ]
  },
  {
   "cell_type": "code",
   "execution_count": null,
   "metadata": {},
   "outputs": [],
   "source": [
    "#make DEG-flag vector (1: Differentially expressed, 0: not significant)\n",
    "resdata$DEG.flag = ( (resdata$padj < 0.05) & (abs(resdata$log2FoldChange) >= 1) )\n",
    "vector.DEGenes = as.vector(as.numeric(resdata$DEG.flag))\n",
    "names(vector.DEGenes) = resdata$Gene\n",
    "vector.DEGenes[is.na(vector.DEGenes)] = 0 # make NA (zero-counts) to FALSE\n",
    "seq.length=resdata$length\n",
    "names(seq.length) = resdata$Gene"
   ]
  },
  {
   "cell_type": "code",
   "execution_count": null,
   "metadata": {},
   "outputs": [],
   "source": [
    "GO.wall = goseq(pvalue.GO, gene2cat = list.GO, method = \"Wallenius\")\n",
    "head(GO.wall)"
   ]
  },
  {
   "cell_type": "code",
   "execution_count": null,
   "metadata": {},
   "outputs": [],
   "source": [
    "#melted version of GO list  -> required for nex cell: GO plot\n",
    "header=c('Gene', 'GO')\n",
    "df.temp.GO=read.csv('/home/minsoo1012/Girdling_prj_revision/DEanalysis/Pr_custom_GO.txt', sep='=', header=FALSE, colClasses=c(\"character\", \"character\"))\n",
    "names(df.temp.GO)=header\n",
    "df.temp.GO$GO <- paste('GO',':', str_sub(df.temp.GO$GO,2,), sep = \"\")\n",
    "head(df.temp.GO)"
   ]
  },
  {
   "cell_type": "code",
   "execution_count": null,
   "metadata": {},
   "outputs": [],
   "source": [
    "row.names(GO.wall) = GO.wall$category\n",
    "df.GOplot = data.frame( category = character(), ID = character(), term = character(), count = numeric(), genes = character(), logFC = numeric(), adj_pval = numeric(), zscore = numeric())\n",
    "rownames(resdata) = resdata$Gene\n",
    "\n",
    "for(j in 1:nrow(GO.wall)){\n",
    "    #### get SeqName subset lists from list.GO.seq\n",
    "    ##for each GO in the list of enriched GOs, retrieve list of genes containing that GO \n",
    "    list.GO.seq = subset(df.temp.GO, GO == GO.wall$category[j])\n",
    "    list.GO.seq  <- list.GO.seq[!duplicated(list.GO.seq[c('Gene')]),]\n",
    "    list.GO.seq = str_sub(list.GO.seq$Gene,,-2)\n",
    "    ####C-1-3-2. get expression data from subset for those genes\n",
    "    subset.expr.data = resdata[list.GO.seq, ]\n",
    "    ####na.rm (removed genes with zero counts)\n",
    "    subset.expr.data = subset.expr.data[!is.na(subset.expr.data$Gene),]\n",
    "    ####remove genes that failed to calculate padj (due to single replicate)\n",
    "    subset.expr.data = subset.expr.data[!is.na(subset.expr.data$padj),]\n",
    "\n",
    "    ####up and down mark\n",
    "    ####        current criteria: FDR < 0.1 & |logFC| > 1 \n",
    "    #if nrow(subset.expr.data) == 0 --> skip\n",
    "    if(nrow(subset.expr.data)>0){\n",
    "        no.upregulated = sum((subset.expr.data$padj < 0.1) & (subset.expr.data$log2FoldChange > 1))\n",
    "        no.downregulated = sum((subset.expr.data$padj < 0.1) & (subset.expr.data$log2FoldChange < -1))\n",
    "\n",
    "        temp.res.enrich.GO = GO.wall[j,]\n",
    "\n",
    "        df.temp.GOplot = data.frame(category = temp.res.enrich.GO$ontology,\n",
    "        ID = temp.res.enrich.GO$category,\n",
    "        term = temp.res.enrich.GO$term,\n",
    "        count = temp.res.enrich.GO$numDEInCat,\n",
    "        genes = subset.expr.data$Gene,\n",
    "        logFC = subset.expr.data$log2FoldChange,\n",
    "        adj_pval = temp.res.enrich.GO$over_represented_pvalue,\n",
    "        zscore = ((no.upregulated - no.downregulated)/sqrt(nrow(subset.expr.data)))\n",
    "        )\n",
    "\n",
    "        df.GOplot = rbind(df.GOplot, df.temp.GOplot)\n",
    "    }\n",
    "}\n"
   ]
  },
  {
   "cell_type": "code",
   "execution_count": null,
   "metadata": {},
   "outputs": [],
   "source": [
    "\n",
    "circ = subset(df.GOplot, adj_pval < 0.05)\n",
    "circ_filtered = circ[with(circ, order(adj_pval)), ]\n",
    "reduced_circ = reduce_overlap(circ_filtered)\n",
    "GOBar(reduced_circ, display = \"multiple\")"
   ]
  }
 ],
 "metadata": {
  "language_info": {
   "name": "python"
  },
  "orig_nbformat": 4
 },
 "nbformat": 4,
 "nbformat_minor": 2
}
